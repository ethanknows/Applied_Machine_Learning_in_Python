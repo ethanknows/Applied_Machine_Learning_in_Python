{
 "cells": [
  {
   "cell_type": "markdown",
   "metadata": {},
   "source": [
    "---\n",
    "\n",
    "_You are currently looking at **version 1.1** of this notebook. To download notebooks and datafiles, as well as get help on Jupyter notebooks in the Coursera platform, visit the [Jupyter Notebook FAQ](https://www.coursera.org/learn/python-machine-learning/resources/bANLa) course resource._\n",
    "\n",
    "---"
   ]
  },
  {
   "cell_type": "markdown",
   "metadata": {},
   "source": [
    "## Assignment 4 - Understanding and Predicting Property Maintenance Fines\n",
    "\n",
    "This assignment is based on a data challenge from the Michigan Data Science Team ([MDST](http://midas.umich.edu/mdst/)). \n",
    "\n",
    "The Michigan Data Science Team ([MDST](http://midas.umich.edu/mdst/)) and the Michigan Student Symposium for Interdisciplinary Statistical Sciences ([MSSISS](https://sites.lsa.umich.edu/mssiss/)) have partnered with the City of Detroit to help solve one of the most pressing problems facing Detroit - blight. [Blight violations](http://www.detroitmi.gov/How-Do-I/Report/Blight-Complaint-FAQs) are issued by the city to individuals who allow their properties to remain in a deteriorated condition. Every year, the city of Detroit issues millions of dollars in fines to residents and every year, many of these fines remain unpaid. Enforcing unpaid blight fines is a costly and tedious process, so the city wants to know: how can we increase blight ticket compliance?\n",
    "\n",
    "The first step in answering this question is understanding when and why a resident might fail to comply with a blight ticket. This is where predictive modeling comes in. For this assignment, your task is to predict whether a given blight ticket will be paid on time.\n",
    "\n",
    "All data for this assignment has been provided to us through the [Detroit Open Data Portal](https://data.detroitmi.gov/). **Only the data already included in your Coursera directory can be used for training the model for this assignment.** Nonetheless, we encourage you to look into data from other Detroit datasets to help inform feature creation and model selection. We recommend taking a look at the following related datasets:\n",
    "\n",
    "* [Building Permits](https://data.detroitmi.gov/Property-Parcels/Building-Permits/xw2a-a7tf)\n",
    "* [Trades Permits](https://data.detroitmi.gov/Property-Parcels/Trades-Permits/635b-dsgv)\n",
    "* [Improve Detroit: Submitted Issues](https://data.detroitmi.gov/Government/Improve-Detroit-Submitted-Issues/fwz3-w3yn)\n",
    "* [DPD: Citizen Complaints](https://data.detroitmi.gov/Public-Safety/DPD-Citizen-Complaints-2016/kahe-efs3)\n",
    "* [Parcel Map](https://data.detroitmi.gov/Property-Parcels/Parcel-Map/fxkw-udwf)\n",
    "\n",
    "___\n",
    "\n",
    "We provide you with two data files for use in training and validating your models: train.csv and test.csv. Each row in these two files corresponds to a single blight ticket, and includes information about when, why, and to whom each ticket was issued. The target variable is compliance, which is True if the ticket was paid early, on time, or within one month of the hearing data, False if the ticket was paid after the hearing date or not at all, and Null if the violator was found not responsible. Compliance, as well as a handful of other variables that will not be available at test-time, are only included in train.csv.\n",
    "\n",
    "Note: All tickets where the violators were found not responsible are not considered during evaluation. They are included in the training set as an additional source of data for visualization, and to enable unsupervised and semi-supervised approaches. However, they are not included in the test set.\n",
    "\n",
    "<br>\n",
    "\n",
    "**File descriptions** (Use only this data for training your model!)\n",
    "\n",
    "    train.csv - the training set (all tickets issued 2004-2011)\n",
    "    test.csv - the test set (all tickets issued 2012-2016)\n",
    "    addresses.csv & latlons.csv - mapping from ticket id to addresses, and from addresses to lat/lon coordinates. \n",
    "     Note: misspelled addresses may be incorrectly geolocated.\n",
    "\n",
    "<br>\n",
    "\n",
    "**Data fields**\n",
    "\n",
    "train.csv & test.csv\n",
    "\n",
    "    ticket_id - unique identifier for tickets\n",
    "    agency_name - Agency that issued the ticket\n",
    "    inspector_name - Name of inspector that issued the ticket\n",
    "    violator_name - Name of the person/organization that the ticket was issued to\n",
    "    violation_street_number, violation_street_name, violation_zip_code - Address where the violation occurred\n",
    "    mailing_address_str_number, mailing_address_str_name, city, state, zip_code, non_us_str_code, country - Mailing address of the violator\n",
    "    ticket_issued_date - Date and time the ticket was issued\n",
    "    hearing_date - Date and time the violator's hearing was scheduled\n",
    "    violation_code, violation_description - Type of violation\n",
    "    disposition - Judgment and judgement type\n",
    "    fine_amount - Violation fine amount, excluding fees\n",
    "    admin_fee - $20 fee assigned to responsible judgments\n",
    "state_fee - $10 fee assigned to responsible judgments\n",
    "    late_fee - 10% fee assigned to responsible judgments\n",
    "    discount_amount - discount applied, if any\n",
    "    clean_up_cost - DPW clean-up or graffiti removal cost\n",
    "    judgment_amount - Sum of all fines and fees\n",
    "    grafitti_status - Flag for graffiti violations\n",
    "    \n",
    "train.csv only\n",
    "\n",
    "    payment_amount - Amount paid, if any\n",
    "    payment_date - Date payment was made, if it was received\n",
    "    payment_status - Current payment status as of Feb 1 2017\n",
    "    balance_due - Fines and fees still owed\n",
    "    collection_status - Flag for payments in collections\n",
    "    compliance [target variable for prediction] \n",
    "     Null = Not responsible\n",
    "     0 = Responsible, non-compliant\n",
    "     1 = Responsible, compliant\n",
    "    compliance_detail - More information on why each ticket was marked compliant or non-compliant\n",
    "\n",
    "\n",
    "___\n",
    "\n",
    "## Evaluation\n",
    "\n",
    "Your predictions will be given as the probability that the corresponding blight ticket will be paid on time.\n",
    "\n",
    "The evaluation metric for this assignment is the Area Under the ROC Curve (AUC). \n",
    "\n",
    "Your grade will be based on the AUC score computed for your classifier. A model which with an AUROC of 0.7 passes this assignment, over 0.75 will recieve full points.\n",
    "___\n",
    "\n",
    "For this assignment, create a function that trains a model to predict blight ticket compliance in Detroit using `train.csv`. Using this model, return a series of length 61001 with the data being the probability that each corresponding ticket from `test.csv` will be paid, and the index being the ticket_id.\n",
    "\n",
    "Example:\n",
    "\n",
    "    ticket_id\n",
    "       284932    0.531842\n",
    "       285362    0.401958\n",
    "       285361    0.105928\n",
    "       285338    0.018572\n",
    "                 ...\n",
    "       376499    0.208567\n",
    "       376500    0.818759\n",
    "       369851    0.018528\n",
    "       Name: compliance, dtype: float32\n",
    "       \n",
    "### Hints\n",
    "\n",
    "* Make sure your code is working before submitting it to the autograder.\n",
    "\n",
    "* Print out your result to see whether there is anything weird (e.g., all probabilities are the same).\n",
    "\n",
    "* Generally the total runtime should be less than 10 mins. You should NOT use Neural Network related classifiers (e.g., MLPClassifier) in this question. \n",
    "\n",
    "* Try to avoid global variables. If you have other functions besides blight_model, you should move those functions inside the scope of blight_model.\n",
    "\n",
    "* Refer to the pinned threads in Week 4's discussion forum when there is something you could not figure it out."
   ]
  },
  {
   "cell_type": "code",
   "execution_count": 1,
   "metadata": {
    "collapsed": true
   },
   "outputs": [],
   "source": [
    "import pandas as pd\n",
    "import numpy as np\n",
    "\n",
    "def blight_model():\n",
    "    \n",
    "    # Your code here\n",
    "    \n",
    "    return # Your answer here"
   ]
  },
  {
   "cell_type": "code",
   "execution_count": 2,
   "metadata": {
    "collapsed": true
   },
   "outputs": [],
   "source": [
    "import datetime"
   ]
  },
  {
   "cell_type": "code",
   "execution_count": null,
   "metadata": {
    "collapsed": true
   },
   "outputs": [],
   "source": [
    "blight_model()"
   ]
  },
  {
   "cell_type": "markdown",
   "metadata": {},
   "source": [
    "### Load data"
   ]
  },
  {
   "cell_type": "code",
   "execution_count": 3,
   "metadata": {
    "collapsed": false
   },
   "outputs": [
    {
     "name": "stderr",
     "output_type": "stream",
     "text": [
      "/opt/conda/lib/python3.5/site-packages/IPython/core/interactiveshell.py:2717: DtypeWarning: Columns (11,12,31) have mixed types. Specify dtype option on import or set low_memory=False.\n",
      "  interactivity=interactivity, compiler=compiler, result=result)\n"
     ]
    }
   ],
   "source": [
    "train_data = pd.read_csv(\"train.csv\",delimiter=\",\",encoding='ISO-8859-1')"
   ]
  },
  {
   "cell_type": "code",
   "execution_count": 4,
   "metadata": {
    "collapsed": false,
    "scrolled": true
   },
   "outputs": [
    {
     "name": "stdout",
     "output_type": "stream",
     "text": [
      "<class 'pandas.core.frame.DataFrame'>\n",
      "RangeIndex: 250306 entries, 0 to 250305\n",
      "Data columns (total 34 columns):\n",
      "ticket_id                     250306 non-null int64\n",
      "agency_name                   250306 non-null object\n",
      "inspector_name                250306 non-null object\n",
      "violator_name                 250272 non-null object\n",
      "violation_street_number       250306 non-null float64\n",
      "violation_street_name         250306 non-null object\n",
      "violation_zip_code            0 non-null float64\n",
      "mailing_address_str_number    246704 non-null float64\n",
      "mailing_address_str_name      250302 non-null object\n",
      "city                          250306 non-null object\n",
      "state                         250213 non-null object\n",
      "zip_code                      250305 non-null object\n",
      "non_us_str_code               3 non-null object\n",
      "country                       250306 non-null object\n",
      "ticket_issued_date            250306 non-null object\n",
      "hearing_date                  237815 non-null object\n",
      "violation_code                250306 non-null object\n",
      "violation_description         250306 non-null object\n",
      "disposition                   250306 non-null object\n",
      "fine_amount                   250305 non-null float64\n",
      "admin_fee                     250306 non-null float64\n",
      "state_fee                     250306 non-null float64\n",
      "late_fee                      250306 non-null float64\n",
      "discount_amount               250306 non-null float64\n",
      "clean_up_cost                 250306 non-null float64\n",
      "judgment_amount               250306 non-null float64\n",
      "payment_amount                250306 non-null float64\n",
      "balance_due                   250306 non-null float64\n",
      "payment_date                  41113 non-null object\n",
      "payment_status                250306 non-null object\n",
      "collection_status             36897 non-null object\n",
      "grafitti_status               1 non-null object\n",
      "compliance_detail             250306 non-null object\n",
      "compliance                    159880 non-null float64\n",
      "dtypes: float64(13), int64(1), object(20)\n",
      "memory usage: 64.9+ MB\n"
     ]
    }
   ],
   "source": [
    "train_data.info()"
   ]
  },
  {
   "cell_type": "markdown",
   "metadata": {},
   "source": [
    "#### select non-Null target values from train data"
   ]
  },
  {
   "cell_type": "code",
   "execution_count": 5,
   "metadata": {
    "collapsed": false
   },
   "outputs": [
    {
     "data": {
      "text/plain": [
       "0.0    148283\n",
       "1.0     11597\n",
       "Name: compliance, dtype: int64"
      ]
     },
     "execution_count": 5,
     "metadata": {},
     "output_type": "execute_result"
    }
   ],
   "source": [
    "train_data.compliance.value_counts()"
   ]
  },
  {
   "cell_type": "code",
   "execution_count": 6,
   "metadata": {
    "collapsed": false
   },
   "outputs": [
    {
     "data": {
      "text/plain": [
       "(159880, 34)"
      ]
     },
     "execution_count": 6,
     "metadata": {},
     "output_type": "execute_result"
    }
   ],
   "source": [
    "train_data = train_data[~(train_data.compliance.isnull())]\n",
    "train_data.shape"
   ]
  },
  {
   "cell_type": "markdown",
   "metadata": {},
   "source": [
    "#### Conbine train data, addresses data and latlons data"
   ]
  },
  {
   "cell_type": "code",
   "execution_count": 7,
   "metadata": {
    "collapsed": true
   },
   "outputs": [],
   "source": [
    "addresses_data = pd.read_csv(\"addresses.csv\",delimiter=\",\")"
   ]
  },
  {
   "cell_type": "code",
   "execution_count": 8,
   "metadata": {
    "collapsed": true
   },
   "outputs": [],
   "source": [
    "latlons_data = pd.read_csv(\"latlons.csv\",delimiter=\",\")"
   ]
  },
  {
   "cell_type": "code",
   "execution_count": 9,
   "metadata": {
    "collapsed": false
   },
   "outputs": [],
   "source": [
    "add_loc_data = pd.merge(addresses_data,latlons_data,on=\"address\")"
   ]
  },
  {
   "cell_type": "code",
   "execution_count": 10,
   "metadata": {
    "collapsed": false
   },
   "outputs": [
    {
     "data": {
      "text/html": [
       "<div>\n",
       "<table border=\"1\" class=\"dataframe\">\n",
       "  <thead>\n",
       "    <tr style=\"text-align: right;\">\n",
       "      <th></th>\n",
       "      <th>ticket_id</th>\n",
       "      <th>address</th>\n",
       "      <th>lat</th>\n",
       "      <th>lon</th>\n",
       "    </tr>\n",
       "  </thead>\n",
       "  <tbody>\n",
       "    <tr>\n",
       "      <th>0</th>\n",
       "      <td>22056</td>\n",
       "      <td>2900 tyler, Detroit MI</td>\n",
       "      <td>42.390729</td>\n",
       "      <td>-83.124268</td>\n",
       "    </tr>\n",
       "    <tr>\n",
       "      <th>1</th>\n",
       "      <td>77242</td>\n",
       "      <td>2900 tyler, Detroit MI</td>\n",
       "      <td>42.390729</td>\n",
       "      <td>-83.124268</td>\n",
       "    </tr>\n",
       "    <tr>\n",
       "      <th>2</th>\n",
       "      <td>77243</td>\n",
       "      <td>2900 tyler, Detroit MI</td>\n",
       "      <td>42.390729</td>\n",
       "      <td>-83.124268</td>\n",
       "    </tr>\n",
       "    <tr>\n",
       "      <th>3</th>\n",
       "      <td>103945</td>\n",
       "      <td>2900 tyler, Detroit MI</td>\n",
       "      <td>42.390729</td>\n",
       "      <td>-83.124268</td>\n",
       "    </tr>\n",
       "    <tr>\n",
       "      <th>4</th>\n",
       "      <td>138219</td>\n",
       "      <td>2900 tyler, Detroit MI</td>\n",
       "      <td>42.390729</td>\n",
       "      <td>-83.124268</td>\n",
       "    </tr>\n",
       "  </tbody>\n",
       "</table>\n",
       "</div>"
      ],
      "text/plain": [
       "   ticket_id                 address        lat        lon\n",
       "0      22056  2900 tyler, Detroit MI  42.390729 -83.124268\n",
       "1      77242  2900 tyler, Detroit MI  42.390729 -83.124268\n",
       "2      77243  2900 tyler, Detroit MI  42.390729 -83.124268\n",
       "3     103945  2900 tyler, Detroit MI  42.390729 -83.124268\n",
       "4     138219  2900 tyler, Detroit MI  42.390729 -83.124268"
      ]
     },
     "execution_count": 10,
     "metadata": {},
     "output_type": "execute_result"
    }
   ],
   "source": [
    "add_loc_data.head()"
   ]
  },
  {
   "cell_type": "code",
   "execution_count": 11,
   "metadata": {
    "collapsed": false
   },
   "outputs": [
    {
     "data": {
      "text/html": [
       "<div>\n",
       "<table border=\"1\" class=\"dataframe\">\n",
       "  <thead>\n",
       "    <tr style=\"text-align: right;\">\n",
       "      <th></th>\n",
       "      <th>ticket_id</th>\n",
       "      <th>agency_name</th>\n",
       "      <th>inspector_name</th>\n",
       "      <th>violator_name</th>\n",
       "      <th>violation_street_number</th>\n",
       "      <th>violation_street_name</th>\n",
       "      <th>violation_zip_code</th>\n",
       "      <th>mailing_address_str_number</th>\n",
       "      <th>mailing_address_str_name</th>\n",
       "      <th>city</th>\n",
       "      <th>...</th>\n",
       "      <th>balance_due</th>\n",
       "      <th>payment_date</th>\n",
       "      <th>payment_status</th>\n",
       "      <th>collection_status</th>\n",
       "      <th>grafitti_status</th>\n",
       "      <th>compliance_detail</th>\n",
       "      <th>compliance</th>\n",
       "      <th>address</th>\n",
       "      <th>lat</th>\n",
       "      <th>lon</th>\n",
       "    </tr>\n",
       "  </thead>\n",
       "  <tbody>\n",
       "    <tr>\n",
       "      <th>0</th>\n",
       "      <td>22056</td>\n",
       "      <td>Buildings, Safety Engineering &amp; Env Department</td>\n",
       "      <td>Sims, Martinzie</td>\n",
       "      <td>INVESTMENT INC., MIDWEST MORTGAGE</td>\n",
       "      <td>2900.0</td>\n",
       "      <td>TYLER</td>\n",
       "      <td>NaN</td>\n",
       "      <td>3.0</td>\n",
       "      <td>S. WICKER</td>\n",
       "      <td>CHICAGO</td>\n",
       "      <td>...</td>\n",
       "      <td>305.0</td>\n",
       "      <td>NaN</td>\n",
       "      <td>NO PAYMENT APPLIED</td>\n",
       "      <td>NaN</td>\n",
       "      <td>NaN</td>\n",
       "      <td>non-compliant by no payment</td>\n",
       "      <td>0.0</td>\n",
       "      <td>2900 tyler, Detroit MI</td>\n",
       "      <td>42.390729</td>\n",
       "      <td>-83.124268</td>\n",
       "    </tr>\n",
       "    <tr>\n",
       "      <th>1</th>\n",
       "      <td>27586</td>\n",
       "      <td>Buildings, Safety Engineering &amp; Env Department</td>\n",
       "      <td>Williams, Darrin</td>\n",
       "      <td>Michigan, Covenant House</td>\n",
       "      <td>4311.0</td>\n",
       "      <td>CENTRAL</td>\n",
       "      <td>NaN</td>\n",
       "      <td>2959.0</td>\n",
       "      <td>Martin Luther King</td>\n",
       "      <td>Detroit</td>\n",
       "      <td>...</td>\n",
       "      <td>75.0</td>\n",
       "      <td>2005-06-02 00:00:00</td>\n",
       "      <td>PAID IN FULL</td>\n",
       "      <td>NaN</td>\n",
       "      <td>NaN</td>\n",
       "      <td>compliant by late payment within 1 month</td>\n",
       "      <td>1.0</td>\n",
       "      <td>4311 central, Detroit MI</td>\n",
       "      <td>42.326937</td>\n",
       "      <td>-83.135118</td>\n",
       "    </tr>\n",
       "    <tr>\n",
       "      <th>2</th>\n",
       "      <td>22046</td>\n",
       "      <td>Buildings, Safety Engineering &amp; Env Department</td>\n",
       "      <td>Sims, Martinzie</td>\n",
       "      <td>KASIMU, UKWELI</td>\n",
       "      <td>6478.0</td>\n",
       "      <td>NORTHFIELD</td>\n",
       "      <td>NaN</td>\n",
       "      <td>2755.0</td>\n",
       "      <td>E. 17TH</td>\n",
       "      <td>LOG BEACH</td>\n",
       "      <td>...</td>\n",
       "      <td>305.0</td>\n",
       "      <td>NaN</td>\n",
       "      <td>NO PAYMENT APPLIED</td>\n",
       "      <td>NaN</td>\n",
       "      <td>NaN</td>\n",
       "      <td>non-compliant by no payment</td>\n",
       "      <td>0.0</td>\n",
       "      <td>6478 northfield, Detroit MI</td>\n",
       "      <td>42.145257</td>\n",
       "      <td>-83.208233</td>\n",
       "    </tr>\n",
       "    <tr>\n",
       "      <th>3</th>\n",
       "      <td>18738</td>\n",
       "      <td>Buildings, Safety Engineering &amp; Env Department</td>\n",
       "      <td>Williams, Darrin</td>\n",
       "      <td>Deerwood Development Group Inc, Deer</td>\n",
       "      <td>8027.0</td>\n",
       "      <td>BRENTWOOD</td>\n",
       "      <td>NaN</td>\n",
       "      <td>476.0</td>\n",
       "      <td>Garfield</td>\n",
       "      <td>Clinton</td>\n",
       "      <td>...</td>\n",
       "      <td>855.0</td>\n",
       "      <td>NaN</td>\n",
       "      <td>NO PAYMENT APPLIED</td>\n",
       "      <td>NaN</td>\n",
       "      <td>NaN</td>\n",
       "      <td>non-compliant by no payment</td>\n",
       "      <td>0.0</td>\n",
       "      <td>8027 brentwood, Detroit MI</td>\n",
       "      <td>42.433466</td>\n",
       "      <td>-83.023493</td>\n",
       "    </tr>\n",
       "    <tr>\n",
       "      <th>4</th>\n",
       "      <td>18735</td>\n",
       "      <td>Buildings, Safety Engineering &amp; Env Department</td>\n",
       "      <td>Williams, Darrin</td>\n",
       "      <td>Rafee Auto Services L.L.C., RAF</td>\n",
       "      <td>8228.0</td>\n",
       "      <td>MT ELLIOTT</td>\n",
       "      <td>NaN</td>\n",
       "      <td>8228.0</td>\n",
       "      <td>Mt. Elliott</td>\n",
       "      <td>Detroit</td>\n",
       "      <td>...</td>\n",
       "      <td>140.0</td>\n",
       "      <td>NaN</td>\n",
       "      <td>NO PAYMENT APPLIED</td>\n",
       "      <td>NaN</td>\n",
       "      <td>NaN</td>\n",
       "      <td>non-compliant by no payment</td>\n",
       "      <td>0.0</td>\n",
       "      <td>8228 mt elliott, Detroit MI</td>\n",
       "      <td>42.388641</td>\n",
       "      <td>-83.037858</td>\n",
       "    </tr>\n",
       "  </tbody>\n",
       "</table>\n",
       "<p>5 rows × 37 columns</p>\n",
       "</div>"
      ],
      "text/plain": [
       "   ticket_id                                     agency_name  \\\n",
       "0      22056  Buildings, Safety Engineering & Env Department   \n",
       "1      27586  Buildings, Safety Engineering & Env Department   \n",
       "2      22046  Buildings, Safety Engineering & Env Department   \n",
       "3      18738  Buildings, Safety Engineering & Env Department   \n",
       "4      18735  Buildings, Safety Engineering & Env Department   \n",
       "\n",
       "     inspector_name                         violator_name  \\\n",
       "0   Sims, Martinzie     INVESTMENT INC., MIDWEST MORTGAGE   \n",
       "1  Williams, Darrin              Michigan, Covenant House   \n",
       "2   Sims, Martinzie                        KASIMU, UKWELI   \n",
       "3  Williams, Darrin  Deerwood Development Group Inc, Deer   \n",
       "4  Williams, Darrin       Rafee Auto Services L.L.C., RAF   \n",
       "\n",
       "   violation_street_number violation_street_name  violation_zip_code  \\\n",
       "0                   2900.0                 TYLER                 NaN   \n",
       "1                   4311.0               CENTRAL                 NaN   \n",
       "2                   6478.0            NORTHFIELD                 NaN   \n",
       "3                   8027.0             BRENTWOOD                 NaN   \n",
       "4                   8228.0            MT ELLIOTT                 NaN   \n",
       "\n",
       "   mailing_address_str_number mailing_address_str_name       city    ...      \\\n",
       "0                         3.0                S. WICKER    CHICAGO    ...       \n",
       "1                      2959.0       Martin Luther King    Detroit    ...       \n",
       "2                      2755.0                  E. 17TH  LOG BEACH    ...       \n",
       "3                       476.0                 Garfield    Clinton    ...       \n",
       "4                      8228.0              Mt. Elliott    Detroit    ...       \n",
       "\n",
       "  balance_due         payment_date      payment_status collection_status  \\\n",
       "0       305.0                  NaN  NO PAYMENT APPLIED               NaN   \n",
       "1        75.0  2005-06-02 00:00:00        PAID IN FULL               NaN   \n",
       "2       305.0                  NaN  NO PAYMENT APPLIED               NaN   \n",
       "3       855.0                  NaN  NO PAYMENT APPLIED               NaN   \n",
       "4       140.0                  NaN  NO PAYMENT APPLIED               NaN   \n",
       "\n",
       "  grafitti_status                         compliance_detail compliance  \\\n",
       "0             NaN               non-compliant by no payment        0.0   \n",
       "1             NaN  compliant by late payment within 1 month        1.0   \n",
       "2             NaN               non-compliant by no payment        0.0   \n",
       "3             NaN               non-compliant by no payment        0.0   \n",
       "4             NaN               non-compliant by no payment        0.0   \n",
       "\n",
       "                       address        lat        lon  \n",
       "0       2900 tyler, Detroit MI  42.390729 -83.124268  \n",
       "1     4311 central, Detroit MI  42.326937 -83.135118  \n",
       "2  6478 northfield, Detroit MI  42.145257 -83.208233  \n",
       "3   8027 brentwood, Detroit MI  42.433466 -83.023493  \n",
       "4  8228 mt elliott, Detroit MI  42.388641 -83.037858  \n",
       "\n",
       "[5 rows x 37 columns]"
      ]
     },
     "execution_count": 11,
     "metadata": {},
     "output_type": "execute_result"
    }
   ],
   "source": [
    "train_data = pd.merge(train_data,add_loc_data,on=\"ticket_id\")\n",
    "train_data.head()"
   ]
  },
  {
   "cell_type": "markdown",
   "metadata": {},
   "source": [
    "#### Delete violation address and mailing address(except for zipcode) and grafitti_status which contains all NaN values"
   ]
  },
  {
   "cell_type": "code",
   "execution_count": 12,
   "metadata": {
    "collapsed": false
   },
   "outputs": [],
   "source": [
    "train_data = train_data.drop([\"violation_street_number\",\"violation_street_name\",\"violation_zip_code\",\n",
    "                 \"mailing_address_str_number\",\"mailing_address_str_name\",\"city\",\"state\",\"country\",\n",
    "                 \"non_us_str_code\",\"grafitti_status\",\"address\"],axis = 1)"
   ]
  },
  {
   "cell_type": "code",
   "execution_count": 13,
   "metadata": {
    "collapsed": false
   },
   "outputs": [
    {
     "name": "stdout",
     "output_type": "stream",
     "text": [
      "<class 'pandas.core.frame.DataFrame'>\n",
      "Int64Index: 159880 entries, 0 to 159879\n",
      "Data columns (total 26 columns):\n",
      "ticket_id                159880 non-null int64\n",
      "agency_name              159880 non-null object\n",
      "inspector_name           159880 non-null object\n",
      "violator_name            159854 non-null object\n",
      "zip_code                 159879 non-null object\n",
      "ticket_issued_date       159880 non-null object\n",
      "hearing_date             159653 non-null object\n",
      "violation_code           159880 non-null object\n",
      "violation_description    159880 non-null object\n",
      "disposition              159880 non-null object\n",
      "fine_amount              159880 non-null float64\n",
      "admin_fee                159880 non-null float64\n",
      "state_fee                159880 non-null float64\n",
      "late_fee                 159880 non-null float64\n",
      "discount_amount          159880 non-null float64\n",
      "clean_up_cost            159880 non-null float64\n",
      "judgment_amount          159880 non-null float64\n",
      "payment_amount           159880 non-null float64\n",
      "balance_due              159880 non-null float64\n",
      "payment_date             39611 non-null object\n",
      "payment_status           159880 non-null object\n",
      "collection_status        36897 non-null object\n",
      "compliance_detail        159880 non-null object\n",
      "compliance               159880 non-null float64\n",
      "lat                      159878 non-null float64\n",
      "lon                      159878 non-null float64\n",
      "dtypes: float64(12), int64(1), object(13)\n",
      "memory usage: 32.9+ MB\n"
     ]
    }
   ],
   "source": [
    "train_data.info()"
   ]
  },
  {
   "cell_type": "markdown",
   "metadata": {},
   "source": [
    "#### Delete the obs with wrong zip_code"
   ]
  },
  {
   "cell_type": "code",
   "execution_count": 14,
   "metadata": {
    "collapsed": false
   },
   "outputs": [
    {
     "data": {
      "text/plain": [
       "Int64Index([     2,    336,    492,    584,    680,    997,   1009,   1487,\n",
       "              1502,   1577,\n",
       "            ...\n",
       "            159179, 159190, 159307, 159324, 159410, 159466, 159635, 159751,\n",
       "            159769, 159801],\n",
       "           dtype='int64', length=1049)"
      ]
     },
     "execution_count": 14,
     "metadata": {},
     "output_type": "execute_result"
    }
   ],
   "source": [
    "bad_zipcode = train_data.zip_code[train_data.zip_code.apply(lambda x: len(str(x)) != 5)].index\n",
    "bad_zipcode"
   ]
  },
  {
   "cell_type": "code",
   "execution_count": 15,
   "metadata": {
    "collapsed": false
   },
   "outputs": [],
   "source": [
    "train_data.drop(bad_zipcode,axis = 0,inplace=True)"
   ]
  },
  {
   "cell_type": "code",
   "execution_count": 16,
   "metadata": {
    "collapsed": false
   },
   "outputs": [
    {
     "data": {
      "text/plain": [
       "(158831, 26)"
      ]
     },
     "execution_count": 16,
     "metadata": {},
     "output_type": "execute_result"
    }
   ],
   "source": [
    "train_data.shape"
   ]
  },
  {
   "cell_type": "code",
   "execution_count": 17,
   "metadata": {
    "collapsed": false,
    "scrolled": true
   },
   "outputs": [],
   "source": [
    "train_data.zip_code = train_data.zip_code.astype(\"int64\")"
   ]
  },
  {
   "cell_type": "code",
   "execution_count": 18,
   "metadata": {
    "collapsed": false
   },
   "outputs": [
    {
     "data": {
      "text/plain": [
       "(158607, 26)"
      ]
     },
     "execution_count": 18,
     "metadata": {},
     "output_type": "execute_result"
    }
   ],
   "source": [
    "train_data = train_data[~(train_data.hearing_date.isnull())]\n",
    "train_data.shape"
   ]
  },
  {
   "cell_type": "code",
   "execution_count": 19,
   "metadata": {
    "collapsed": false
   },
   "outputs": [
    {
     "data": {
      "text/plain": [
       "NO PAYMENT APPLIED         119450\n",
       "PAID IN FULL                30049\n",
       "PARTIAL PAYMENT APPLIED      9108\n",
       "Name: payment_status, dtype: int64"
      ]
     },
     "execution_count": 19,
     "metadata": {},
     "output_type": "execute_result"
    }
   ],
   "source": [
    "train_data.payment_status.value_counts()"
   ]
  },
  {
   "cell_type": "code",
   "execution_count": 20,
   "metadata": {
    "collapsed": false
   },
   "outputs": [],
   "source": [
    "train_data.drop([\"payment_date\",\"collection_status\",\"payment_status\"],1,inplace=True)"
   ]
  },
  {
   "cell_type": "code",
   "execution_count": 21,
   "metadata": {
    "collapsed": false
   },
   "outputs": [],
   "source": [
    "train_data.drop([\"payment_amount\",\"balance_due\",\"compliance_detail\"],1,inplace= True)"
   ]
  },
  {
   "cell_type": "code",
   "execution_count": 22,
   "metadata": {
    "collapsed": false
   },
   "outputs": [],
   "source": [
    "train_data = train_data[~(train_data.lat.isnull())]"
   ]
  },
  {
   "cell_type": "code",
   "execution_count": 23,
   "metadata": {
    "collapsed": false
   },
   "outputs": [],
   "source": [
    "train_data.drop(\"violator_name\",1,inplace=True)"
   ]
  },
  {
   "cell_type": "code",
   "execution_count": 24,
   "metadata": {
    "collapsed": false
   },
   "outputs": [],
   "source": [
    "train_data.drop(\"ticket_id\",1,inplace=True)"
   ]
  },
  {
   "cell_type": "code",
   "execution_count": 25,
   "metadata": {
    "collapsed": false
   },
   "outputs": [
    {
     "name": "stdout",
     "output_type": "stream",
     "text": [
      "<class 'pandas.core.frame.DataFrame'>\n",
      "Int64Index: 158605 entries, 0 to 159879\n",
      "Data columns (total 18 columns):\n",
      "agency_name              158605 non-null object\n",
      "inspector_name           158605 non-null object\n",
      "zip_code                 158605 non-null int64\n",
      "ticket_issued_date       158605 non-null object\n",
      "hearing_date             158605 non-null object\n",
      "violation_code           158605 non-null object\n",
      "violation_description    158605 non-null object\n",
      "disposition              158605 non-null object\n",
      "fine_amount              158605 non-null float64\n",
      "admin_fee                158605 non-null float64\n",
      "state_fee                158605 non-null float64\n",
      "late_fee                 158605 non-null float64\n",
      "discount_amount          158605 non-null float64\n",
      "clean_up_cost            158605 non-null float64\n",
      "judgment_amount          158605 non-null float64\n",
      "compliance               158605 non-null float64\n",
      "lat                      158605 non-null float64\n",
      "lon                      158605 non-null float64\n",
      "dtypes: float64(10), int64(1), object(7)\n",
      "memory usage: 23.0+ MB\n"
     ]
    }
   ],
   "source": [
    "train_data.info()"
   ]
  },
  {
   "cell_type": "markdown",
   "metadata": {},
   "source": [
    "### Exam object variables\n",
    "    agency_name              250306 non-null object\n",
    "    inspector_name           250306 non-null object\n",
    "    ticket_issued_date       158605 non-null object\n",
    "    hearing_date             158605 non-null object\n",
    "    violation_code           158605 non-null object\n",
    "    violation_description    158605 non-null object\n",
    "    disposition              158605 non-null object"
   ]
  },
  {
   "cell_type": "code",
   "execution_count": 26,
   "metadata": {
    "collapsed": false
   },
   "outputs": [
    {
     "name": "stdout",
     "output_type": "stream",
     "text": [
      "The number of unique values for 'agency_name' is 5.\n",
      "The number of unique values for 'inspector_name' is 159.\n",
      "The number of unique values for 'ticket_issued_date' is 67747.\n",
      "The number of unique values for 'hearing_date' is 5966.\n",
      "The number of unique values for 'violation_code' is 189.\n",
      "The number of unique values for 'violation_description' is 207.\n",
      "The number of unique values for 'disposition' is 4.\n"
     ]
    }
   ],
   "source": [
    "for col in train_data.columns[train_data.dtypes == \"object\"]:\n",
    "    print(\"The number of unique values for '{}' is {}.\".format(col,train_data[col].nunique()))"
   ]
  },
  {
   "cell_type": "code",
   "execution_count": 27,
   "metadata": {
    "collapsed": false
   },
   "outputs": [
    {
     "data": {
      "text/plain": [
       "Responsible by Default                137305\n",
       "Responsible by Admission               13573\n",
       "Responsible by Determination            7538\n",
       "Responsible (Fine Waived) by Deter       189\n",
       "Name: disposition, dtype: int64"
      ]
     },
     "execution_count": 27,
     "metadata": {},
     "output_type": "execute_result"
    }
   ],
   "source": [
    "train_data.disposition.value_counts()"
   ]
  },
  {
   "cell_type": "code",
   "execution_count": 29,
   "metadata": {
    "collapsed": true
   },
   "outputs": [],
   "source": [
    "test_data = pd.read_csv(\"test.csv\",delimiter=\",\",encoding=\"ISO-8859-1\")"
   ]
  },
  {
   "cell_type": "code",
   "execution_count": 31,
   "metadata": {
    "collapsed": false
   },
   "outputs": [
    {
     "name": "stdout",
     "output_type": "stream",
     "text": [
      "The number of unique values for 'agency_name' is 3.\n",
      "The number of unique values for 'inspector_name' is 116.\n",
      "The number of unique values for 'violator_name' is 38515.\n",
      "The number of unique values for 'violation_street_name' is 1477.\n",
      "The number of unique values for 'violation_zip_code' is 58.\n",
      "The number of unique values for 'mailing_address_str_number' is 9703.\n",
      "The number of unique values for 'mailing_address_str_name' is 16851.\n",
      "The number of unique values for 'city' is 3266.\n",
      "The number of unique values for 'state' is 58.\n",
      "The number of unique values for 'zip_code' is 2900.\n",
      "The number of unique values for 'country' is 1.\n",
      "The number of unique values for 'ticket_issued_date' is 33064.\n",
      "The number of unique values for 'hearing_date' is 3312.\n",
      "The number of unique values for 'violation_code' is 151.\n",
      "The number of unique values for 'violation_description' is 163.\n",
      "The number of unique values for 'disposition' is 8.\n",
      "The number of unique values for 'grafitti_status' is 1.\n"
     ]
    }
   ],
   "source": [
    "for col in test_data.columns[test_data.dtypes == \"object\"]:\n",
    "    print(\"The number of unique values for '{}' is {}.\".format(col,test_data[col].nunique()))"
   ]
  },
  {
   "cell_type": "markdown",
   "metadata": {},
   "source": [
    "### Change date columns('ticket_issued_date', 'hearing_date') into datetime format and extract year, week of year, and day of week information"
   ]
  },
  {
   "cell_type": "code",
   "execution_count": 32,
   "metadata": {
    "collapsed": false
   },
   "outputs": [],
   "source": [
    "train_data.ticket_issued_date = pd.to_datetime(train_data.ticket_issued_date)"
   ]
  },
  {
   "cell_type": "code",
   "execution_count": 33,
   "metadata": {
    "collapsed": false
   },
   "outputs": [
    {
     "data": {
      "text/plain": [
       "0   2004-03-16 11:40:00\n",
       "1   2004-04-23 12:30:00\n",
       "3   2004-06-14 14:15:00\n",
       "4   2004-06-16 12:30:00\n",
       "5   2004-06-16 12:25:00\n",
       "Name: ticket_issued_date, dtype: datetime64[ns]"
      ]
     },
     "execution_count": 33,
     "metadata": {},
     "output_type": "execute_result"
    }
   ],
   "source": [
    "train_data.ticket_issued_date.head()"
   ]
  },
  {
   "cell_type": "code",
   "execution_count": 34,
   "metadata": {
    "collapsed": false
   },
   "outputs": [],
   "source": [
    "train_data[\"year\"] = [date.isocalendar()[0] for date in train_data.ticket_issued_date]"
   ]
  },
  {
   "cell_type": "code",
   "execution_count": 35,
   "metadata": {
    "collapsed": false
   },
   "outputs": [],
   "source": [
    "train_data[\"woy\"] = [date.isocalendar()[1] for date in train_data.ticket_issued_date]"
   ]
  },
  {
   "cell_type": "code",
   "execution_count": 36,
   "metadata": {
    "collapsed": false
   },
   "outputs": [],
   "source": [
    "train_data[\"dow\"] = [date.isocalendar()[2] for date in train_data.ticket_issued_date]"
   ]
  },
  {
   "cell_type": "code",
   "execution_count": 37,
   "metadata": {
    "collapsed": false
   },
   "outputs": [],
   "source": [
    "train_data.hearing_date = pd.to_datetime(train_data.hearing_date)\n",
    "train_data[\"h_year\"] = [date.isocalendar()[0] for date in train_data.hearing_date]\n",
    "train_data[\"h_woy\"] = [date.isocalendar()[1] for date in train_data.hearing_date]\n",
    "train_data[\"h_dow\"] = [date.isocalendar()[2] for date in train_data.hearing_date]"
   ]
  },
  {
   "cell_type": "code",
   "execution_count": 38,
   "metadata": {
    "collapsed": false
   },
   "outputs": [],
   "source": [
    "train_data.drop([\"ticket_issued_date\",\"hearing_date\"],1,inplace=True)"
   ]
  },
  {
   "cell_type": "code",
   "execution_count": 39,
   "metadata": {
    "collapsed": false
   },
   "outputs": [],
   "source": [
    "train_data.drop(\"violation_code\",1,inplace=True)"
   ]
  },
  {
   "cell_type": "code",
   "execution_count": 40,
   "metadata": {
    "collapsed": false,
    "scrolled": false
   },
   "outputs": [
    {
     "name": "stdout",
     "output_type": "stream",
     "text": [
      "<class 'pandas.core.frame.DataFrame'>\n",
      "Int64Index: 158605 entries, 0 to 159879\n",
      "Data columns (total 21 columns):\n",
      "agency_name              158605 non-null object\n",
      "inspector_name           158605 non-null object\n",
      "zip_code                 158605 non-null int64\n",
      "violation_description    158605 non-null object\n",
      "disposition              158605 non-null object\n",
      "fine_amount              158605 non-null float64\n",
      "admin_fee                158605 non-null float64\n",
      "state_fee                158605 non-null float64\n",
      "late_fee                 158605 non-null float64\n",
      "discount_amount          158605 non-null float64\n",
      "clean_up_cost            158605 non-null float64\n",
      "judgment_amount          158605 non-null float64\n",
      "compliance               158605 non-null float64\n",
      "lat                      158605 non-null float64\n",
      "lon                      158605 non-null float64\n",
      "year                     158605 non-null int64\n",
      "woy                      158605 non-null int64\n",
      "dow                      158605 non-null int64\n",
      "h_year                   158605 non-null int64\n",
      "h_woy                    158605 non-null int64\n",
      "h_dow                    158605 non-null int64\n",
      "dtypes: float64(10), int64(7), object(4)\n",
      "memory usage: 26.6+ MB\n"
     ]
    }
   ],
   "source": [
    "train_data.info()"
   ]
  },
  {
   "cell_type": "code",
   "execution_count": 41,
   "metadata": {
    "collapsed": true
   },
   "outputs": [],
   "source": [
    "import matplotlib.pyplot as plt\n",
    "import seaborn as sns"
   ]
  },
  {
   "cell_type": "code",
   "execution_count": 42,
   "metadata": {
    "collapsed": true
   },
   "outputs": [],
   "source": [
    "corr = train_data.corr()"
   ]
  },
  {
   "cell_type": "code",
   "execution_count": 43,
   "metadata": {
    "collapsed": false
   },
   "outputs": [
    {
     "data": {
      "text/plain": [
       "<matplotlib.axes._subplots.AxesSubplot at 0x7f643e0109e8>"
      ]
     },
     "execution_count": 43,
     "metadata": {},
     "output_type": "execute_result"
    },
    {
     "data": {
      "image/png": "[encoded data removed]",
      "text/plain": [
       "<matplotlib.figure.Figure at 0x7f643e09eba8>"
      ]
     },
     "metadata": {},
     "output_type": "display_data"
    }
   ],
   "source": [
    "%matplotlib inline\n",
    "plt.figure(figsize=(12,12))\n",
    "sns.heatmap(corr,annot=True)"
   ]
  },
  {
   "cell_type": "code",
   "execution_count": 44,
   "metadata": {
    "collapsed": false
   },
   "outputs": [
    {
     "data": {
      "text/plain": [
       "<matplotlib.axes._subplots.AxesSubplot at 0x7f63ffe5deb8>"
      ]
     },
     "execution_count": 44,
     "metadata": {},
     "output_type": "execute_result"
    },
    {
     "data": {
      "image/png": "[encoded data removed]",
      "text/plain": [
       "<matplotlib.figure.Figure at 0x7f63ff274cc0>"
      ]
     },
     "metadata": {},
     "output_type": "display_data"
    }
   ],
   "source": [
    "%matplotlib inline\n",
    "plt.figure(figsize=(12,12))\n",
    "sns.heatmap(train_data.drop([\"h_year\",\"fine_amount\",\"judgment_amount\"],1).corr(),annot=True)"
   ]
  },
  {
   "cell_type": "code",
   "execution_count": 45,
   "metadata": {
    "collapsed": false
   },
   "outputs": [],
   "source": [
    "train_data.drop([\"h_year\",\"fine_amount\",\"judgment_amount\"],1,inplace=True)"
   ]
  },
  {
   "cell_type": "code",
   "execution_count": 46,
   "metadata": {
    "collapsed": false
   },
   "outputs": [
    {
     "name": "stdout",
     "output_type": "stream",
     "text": [
      "<class 'pandas.core.frame.DataFrame'>\n",
      "Int64Index: 158605 entries, 0 to 159879\n",
      "Data columns (total 18 columns):\n",
      "agency_name              158605 non-null object\n",
      "inspector_name           158605 non-null object\n",
      "zip_code                 158605 non-null int64\n",
      "violation_description    158605 non-null object\n",
      "disposition              158605 non-null object\n",
      "admin_fee                158605 non-null float64\n",
      "state_fee                158605 non-null float64\n",
      "late_fee                 158605 non-null float64\n",
      "discount_amount          158605 non-null float64\n",
      "clean_up_cost            158605 non-null float64\n",
      "compliance               158605 non-null float64\n",
      "lat                      158605 non-null float64\n",
      "lon                      158605 non-null float64\n",
      "year                     158605 non-null int64\n",
      "woy                      158605 non-null int64\n",
      "dow                      158605 non-null int64\n",
      "h_woy                    158605 non-null int64\n",
      "h_dow                    158605 non-null int64\n",
      "dtypes: float64(8), int64(6), object(4)\n",
      "memory usage: 23.0+ MB\n"
     ]
    }
   ],
   "source": [
    "train_data.info()"
   ]
  },
  {
   "cell_type": "markdown",
   "metadata": {},
   "source": [
    "# Do not forget fit labelencoder on both train and test data at same time at end"
   ]
  },
  {
   "cell_type": "code",
   "execution_count": 47,
   "metadata": {
    "collapsed": false
   },
   "outputs": [],
   "source": [
    "from sklearn.preprocessing import LabelEncoder\n",
    "le = LabelEncoder()\n",
    "for col in train_data.columns[train_data.dtypes == \"object\"]:\n",
    "    train_data[col] = le.fit_transform(train_data[col])"
   ]
  },
  {
   "cell_type": "code",
   "execution_count": 48,
   "metadata": {
    "collapsed": false
   },
   "outputs": [
    {
     "name": "stdout",
     "output_type": "stream",
     "text": [
      "<class 'pandas.core.frame.DataFrame'>\n",
      "Int64Index: 158605 entries, 0 to 159879\n",
      "Data columns (total 18 columns):\n",
      "agency_name              158605 non-null int64\n",
      "inspector_name           158605 non-null int64\n",
      "zip_code                 158605 non-null int64\n",
      "violation_description    158605 non-null int64\n",
      "disposition              158605 non-null int64\n",
      "admin_fee                158605 non-null float64\n",
      "state_fee                158605 non-null float64\n",
      "late_fee                 158605 non-null float64\n",
      "discount_amount          158605 non-null float64\n",
      "clean_up_cost            158605 non-null float64\n",
      "compliance               158605 non-null float64\n",
      "lat                      158605 non-null float64\n",
      "lon                      158605 non-null float64\n",
      "year                     158605 non-null int64\n",
      "woy                      158605 non-null int64\n",
      "dow                      158605 non-null int64\n",
      "h_woy                    158605 non-null int64\n",
      "h_dow                    158605 non-null int64\n",
      "dtypes: float64(8), int64(10)\n",
      "memory usage: 23.0 MB\n"
     ]
    }
   ],
   "source": [
    "train_data.info()"
   ]
  },
  {
   "cell_type": "code",
   "execution_count": 126,
   "metadata": {
    "collapsed": true
   },
   "outputs": [],
   "source": [
    "from sklearn.naive_bayes import GaussianNB\n",
    "from sklearn.linear_model import LogisticRegression\n",
    "from sklearn.ensemble import RandomForestClassifier, AdaBoostClassifier\n",
    "\n",
    "from sklearn.cross_validation import train_test_split\n",
    "from sklearn.metrics import roc_curve, auc\n",
    "from sklearn.preprocessing import MinMaxScaler\n",
    "from sklearn.model_selection import StratifiedKFold\n",
    "from sklearn.model_selection import GridSearchCV"
   ]
  },
  {
   "cell_type": "code",
   "execution_count": 128,
   "metadata": {
    "collapsed": false,
    "scrolled": false
   },
   "outputs": [
    {
     "name": "stdout",
     "output_type": "stream",
     "text": [
      "LogisticRegression(C=1.0, class_weight=None, dual=False, fit_intercept=True,\n",
      "          intercept_scaling=1, max_iter=100, multi_class='ovr', n_jobs=1,\n",
      "          penalty='l2', random_state=0, solver='liblinear', tol=0.0001,\n",
      "          verbose=0, warm_start=False)\n",
      "0.670410201732\n",
      "0.689655612544\n",
      "0.703355577367\n",
      "0.662813798945\n",
      "0.689035882001\n",
      "GaussianNB(priors=None)\n",
      "0.784572923815\n",
      "0.751614176083\n",
      "0.810751064504\n",
      "0.762176584884\n",
      "0.72070840107\n",
      "RandomForestClassifier(bootstrap=True, class_weight=None, criterion='gini',\n",
      "            max_depth=None, max_features='auto', max_leaf_nodes=None,\n",
      "            min_impurity_split=1e-07, min_samples_leaf=1,\n",
      "            min_samples_split=2, min_weight_fraction_leaf=0.0,\n",
      "            n_estimators=100, n_jobs=1, oob_score=False, random_state=0,\n",
      "            verbose=0, warm_start=False)\n",
      "0.636822169407\n",
      "0.614131357852\n",
      "0.695550299958\n",
      "0.615292890873\n",
      "0.690221406031\n",
      "AdaBoostClassifier(algorithm='SAMME.R', base_estimator=None,\n",
      "          learning_rate=1.0, n_estimators=50, random_state=None)\n",
      "0.790753712224\n",
      "0.723985440155\n",
      "0.78847250068\n",
      "0.747755534275\n",
      "0.755070475445\n"
     ]
    }
   ],
   "source": [
    "cv = StratifiedKFold(n_splits=5)\n",
    "scaler  = MinMaxScaler()\n",
    "clfs = [LogisticRegression(),GaussianNB(),\n",
    "       RandomForestClassifier(random_state=0,n_estimators=100),AdaBoostClassifier()]\n",
    "\n",
    "X = train_data.drop(\"compliance\",1)\n",
    "y = train_data.compliance\n",
    "\n",
    "for clf in clfs:\n",
    "    print(clf)\n",
    "    for train, test in cv.split(X,y):\n",
    "        X_train = scaler.fit_transform(X.iloc[train])\n",
    "        X_test = scaler.transform(X.iloc[test])\n",
    "        clf.fit(X_train,y.iloc[train])\n",
    "        if hasattr(clf, \"predict_proba\"):\n",
    "            prob_pos = clf.predict_proba(X_test)[:, 1]\n",
    "        else:  # use decision function\n",
    "            prob_pos = clf.decision_function(X_test)\n",
    "            prob_pos = (prob_pos - prob_pos.min()) / (prob_pos.max() - prob_pos.min())\n",
    "        fpr, tpr, _ = roc_curve(y.iloc[test], prob_pos)\n",
    "        auc_score = auc(fpr,tpr)\n",
    "        print(auc_score)"
   ]
  },
  {
   "cell_type": "markdown",
   "metadata": {},
   "source": [
    "### As we can see from the results, the GaussianNB and AdaBoostClassifier give us better profromence. So we  will use these two classifier to tune our models."
   ]
  },
  {
   "cell_type": "code",
   "execution_count": null,
   "metadata": {
    "collapsed": true
   },
   "outputs": [],
   "source": [
    "param_grid = {\"n_estimators\":[10,100],\"learning_rate\":[0.01,0.1,1]}\n",
    "ada = AdaBoostClassifier()\n",
    "gs = GridSearchCV(ada,param_grid=param_grid,cv=5,scoring=\"roc_auc\")\n",
    "gs.fit(X,y)\n",
    "\n"
   ]
  },
  {
   "cell_type": "code",
   "execution_count": 154,
   "metadata": {
    "collapsed": false
   },
   "outputs": [
    {
     "name": "stdout",
     "output_type": "stream",
     "text": [
      "GaussianNB(priors=None)\n",
      "0.761055931107\n",
      "AdaBoostClassifier(algorithm='SAMME.R', base_estimator=None,\n",
      "          learning_rate=0.5, n_estimators=100, random_state=None)\n",
      "0.76508600177\n"
     ]
    }
   ],
   "source": [
    "cv = StratifiedKFold(n_splits=10)\n",
    "scaler  = MinMaxScaler()\n",
    "clfs = [GaussianNB(),AdaBoostClassifier(learning_rate=0.5, n_estimators=100)]\n",
    "\n",
    "X = train_data.drop(\"compliance\",1)\n",
    "y = train_data.compliance\n",
    "\n",
    "for clf in clfs:\n",
    "    print(clf)\n",
    "    sc = []\n",
    "    for train, test in cv.split(X,y):\n",
    "        X_train = scaler.fit_transform(X.iloc[train])\n",
    "        X_test = scaler.transform(X.iloc[test])\n",
    "        clf.fit(X_train,y.iloc[train])\n",
    "        prob_pos = clf.predict_proba(X_test)[:, 1]\n",
    "        fpr, tpr, _ = roc_curve(y.iloc[test], prob_pos)\n",
    "        sc.append(auc(fpr,tpr))\n",
    "    print(np.mean(sc))"
   ]
  },
  {
   "cell_type": "code",
   "execution_count": null,
   "metadata": {
    "collapsed": true
   },
   "outputs": [],
   "source": []
  }
 ],
 "metadata": {
  "coursera": {
   "course_slug": "python-machine-learning",
   "graded_item_id": "nNS8l",
   "launcher_item_id": "yWWk7",
   "part_id": "w8BSS"
  },
  "kernelspec": {
   "display_name": "Python 3",
   "language": "python",
   "name": "python3"
  },
  "language_info": {
   "codemirror_mode": {
    "name": "ipython",
    "version": 3
   },
   "file_extension": ".py",
   "mimetype": "text/x-python",
   "name": "python",
   "nbconvert_exporter": "python",
   "pygments_lexer": "ipython3",
   "version": "3.5.2"
  }
 },
 "nbformat": 4,
 "nbformat_minor": 2
}
